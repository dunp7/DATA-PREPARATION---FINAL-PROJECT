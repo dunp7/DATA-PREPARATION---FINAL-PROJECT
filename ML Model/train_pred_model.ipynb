{
 "cells": [
  {
   "cell_type": "code",
   "execution_count": 1,
   "metadata": {},
   "outputs": [],
   "source": [
    "import pandas as pd\n",
    "import matplotlib.pyplot as plt\n",
    "import seaborn as sns\n",
    "import numpy as np"
   ]
  },
  {
   "cell_type": "code",
   "execution_count": 2,
   "metadata": {},
   "outputs": [],
   "source": [
    "from sklearn.linear_model import LogisticRegression"
   ]
  },
  {
   "cell_type": "code",
   "execution_count": 3,
   "metadata": {},
   "outputs": [],
   "source": [
    "train_data = pd.read_csv('D:\\\\DSEB 63 - NEU\\\\Năm BA\\\\Visualization\\\\train data\\\\train.csv')\n",
    "x_test = pd.read_csv('D:\\\\DSEB 63 - NEU\\\\Năm BA\\\\Visualization\\\\train data\\\\test.csv')\n",
    "x_train = train_data.drop(columns='TARGET')\n",
    "y_train = train_data['TARGET'].astype('float')\n"
   ]
  },
  {
   "cell_type": "code",
   "execution_count": 4,
   "metadata": {},
   "outputs": [],
   "source": [
    "x_test = x_test.set_index('SK_ID_CURR')\n",
    "x_train = x_train.set_index('SK_ID_CURR')\n",
    "submit = pd.DataFrame(x_test.index)"
   ]
  },
  {
   "cell_type": "code",
   "execution_count": 5,
   "metadata": {},
   "outputs": [],
   "source": [
    "\n",
    "# numeric_transformer = Pipeline(steps= [\n",
    "#         ('imputer', SimpleImputer(strategy='median')),\n",
    "#         ('power_transformer', PowerTransformer(method='yeo-johnson')),\n",
    "#         ('mmsc', MinMaxScaler(feature_range=(0,1)))\n",
    "\n",
    "# ])\n",
    "\n",
    "# categorical_transformer = Pipeline(steps = [\n",
    "#         ('imputer', SimpleImputer(strategy='most_frequent')),\n",
    "#         ('onehot', OneHotEncoder(handle_unknown='ignore')),\n",
    "# ])\n",
    "\n",
    "# preprocessor = ColumnTransformer(\n",
    "#     transformers=[\n",
    "#         ('num', numeric_transformer, numeric_columns),\n",
    "#         ('cat', categorical_transformer, categorical_columns)\n",
    "#     ],remainder='passthrough')\n",
    "\n",
    "# # Create a pipeline with preprocessing and LogisticRegression\n",
    "# pipeline = Pipeline(steps= [\n",
    "#     ('preprocess',preprocessor)\n",
    "# ])\n",
    "\n",
    "# # Fit the pipeline on training data\n",
    "# x_train = (pipeline.fit_transform(x_train)).toarray()\n",
    "# x_train = pd.DataFrame(x_train)\n",
    "\n"
   ]
  },
  {
   "cell_type": "markdown",
   "metadata": {},
   "source": [
    "### Predict"
   ]
  },
  {
   "cell_type": "code",
   "execution_count": 6,
   "metadata": {},
   "outputs": [
    {
     "name": "stderr",
     "output_type": "stream",
     "text": [
      "d:\\Python\\lib\\site-packages\\sklearn\\linear_model\\_sag.py:352: ConvergenceWarning: The max_iter was reached which means the coef_ did not converge\n",
      "  warnings.warn(\n"
     ]
    }
   ],
   "source": [
    "model = LogisticRegression(penalty='elasticnet', l1_ratio=0.6, solver='saga')\n",
    "model.fit(x_train,y_train)\n",
    "y_pred = model.predict_proba(x_test)[:, 1]\n"
   ]
  },
  {
   "cell_type": "code",
   "execution_count": 7,
   "metadata": {},
   "outputs": [],
   "source": [
    "submit['TARGET'] = y_pred\n",
    "submit = submit.set_index('SK_ID_CURR')\n",
    "submit = submit.sort_index(ascending=True)\n",
    "submit.to_csv('../Submission.csv')\n"
   ]
  }
 ],
 "metadata": {
  "kernelspec": {
   "display_name": "base",
   "language": "python",
   "name": "python3"
  },
  "language_info": {
   "codemirror_mode": {
    "name": "ipython",
    "version": 3
   },
   "file_extension": ".py",
   "mimetype": "text/x-python",
   "name": "python",
   "nbconvert_exporter": "python",
   "pygments_lexer": "ipython3",
   "version": "3.9.12"
  }
 },
 "nbformat": 4,
 "nbformat_minor": 2
}
