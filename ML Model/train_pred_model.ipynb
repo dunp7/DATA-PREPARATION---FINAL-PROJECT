{
 "cells": [
  {
   "cell_type": "code",
   "execution_count": 28,
   "metadata": {},
   "outputs": [],
   "source": [
    "import pandas as pd\n",
    "import matplotlib.pyplot as plt\n",
    "import seaborn as sns\n",
    "import numpy as np"
   ]
  },
  {
   "cell_type": "code",
   "execution_count": 29,
   "metadata": {},
   "outputs": [],
   "source": [
    "import warnings\n",
    "warnings.filterwarnings(\"ignore\")"
   ]
  },
  {
   "cell_type": "code",
   "execution_count": 30,
   "metadata": {},
   "outputs": [],
   "source": [
    "from sklearn.linear_model import LogisticRegression\n",
    "from sklearn.model_selection import  GridSearchCV, KFold,StratifiedKFold"
   ]
  },
  {
   "cell_type": "code",
   "execution_count": 31,
   "metadata": {},
   "outputs": [],
   "source": [
    "train_data = pd.read_csv('D:\\\\DSEB 63 - NEU\\\\Năm BA\\\\Visualization\\\\train data\\\\train.csv')\n",
    "x_test = pd.read_csv('D:\\\\DSEB 63 - NEU\\\\Năm BA\\\\Visualization\\\\train data\\\\test.csv')\n",
    "x_train = train_data.drop(columns='TARGET')\n",
    "y_train = train_data['TARGET'].astype('float')\n"
   ]
  },
  {
   "cell_type": "code",
   "execution_count": 32,
   "metadata": {},
   "outputs": [],
   "source": [
    "x_test = x_test.set_index('SK_ID_CURR')\n",
    "x_train = x_train.set_index('SK_ID_CURR')\n",
    "submit = pd.DataFrame(x_test.index)"
   ]
  },
  {
   "cell_type": "markdown",
   "metadata": {},
   "source": [
    "### Predict"
   ]
  },
  {
   "cell_type": "code",
   "execution_count": 33,
   "metadata": {},
   "outputs": [],
   "source": [
    "model = LogisticRegression(penalty='elasticnet', l1_ratio=0.8, solver='saga')\n",
    "model.fit(x_train,y_train)\n",
    "y_pred = model.predict_proba(x_test)[:, 1]\n"
   ]
  },
  {
   "cell_type": "code",
   "execution_count": 6,
   "metadata": {},
   "outputs": [],
   "source": [
    "kfold = KFold(n_splits=5, shuffle=True, random_state= 1710)\n",
    "strkfold = StratifiedKFold(n_splits=5, shuffle=True, random_state= 1710)"
   ]
  },
  {
   "cell_type": "code",
   "execution_count": 7,
   "metadata": {},
   "outputs": [
    {
     "name": "stdout",
     "output_type": "stream",
     "text": [
      "Fitting 5 folds for each of 18 candidates, totalling 90 fits\n",
      "[CV 1/5; 1/18] START l1_ratio=0.001, max_iter=100, penalty=elasticnet, solver=saga\n"
     ]
    },
    {
     "name": "stderr",
     "output_type": "stream",
     "text": [
      "d:\\Python\\lib\\site-packages\\sklearn\\linear_model\\_sag.py:352: ConvergenceWarning: The max_iter was reached which means the coef_ did not converge\n",
      "  warnings.warn(\n"
     ]
    },
    {
     "name": "stdout",
     "output_type": "stream",
     "text": [
      "[CV 1/5; 1/18] END l1_ratio=0.001, max_iter=100, penalty=elasticnet, solver=saga;, score=0.765 total time= 3.3min\n",
      "[CV 2/5; 1/18] START l1_ratio=0.001, max_iter=100, penalty=elasticnet, solver=saga\n"
     ]
    },
    {
     "name": "stderr",
     "output_type": "stream",
     "text": [
      "d:\\Python\\lib\\site-packages\\sklearn\\linear_model\\_sag.py:352: ConvergenceWarning: The max_iter was reached which means the coef_ did not converge\n",
      "  warnings.warn(\n"
     ]
    },
    {
     "name": "stdout",
     "output_type": "stream",
     "text": [
      "[CV 2/5; 1/18] END l1_ratio=0.001, max_iter=100, penalty=elasticnet, solver=saga;, score=0.770 total time= 3.4min\n",
      "[CV 3/5; 1/18] START l1_ratio=0.001, max_iter=100, penalty=elasticnet, solver=saga\n"
     ]
    },
    {
     "name": "stderr",
     "output_type": "stream",
     "text": [
      "d:\\Python\\lib\\site-packages\\sklearn\\linear_model\\_sag.py:352: ConvergenceWarning: The max_iter was reached which means the coef_ did not converge\n",
      "  warnings.warn(\n"
     ]
    },
    {
     "name": "stdout",
     "output_type": "stream",
     "text": [
      "[CV 3/5; 1/18] END l1_ratio=0.001, max_iter=100, penalty=elasticnet, solver=saga;, score=0.768 total time= 3.4min\n",
      "[CV 4/5; 1/18] START l1_ratio=0.001, max_iter=100, penalty=elasticnet, solver=saga\n"
     ]
    },
    {
     "name": "stderr",
     "output_type": "stream",
     "text": [
      "d:\\Python\\lib\\site-packages\\sklearn\\linear_model\\_sag.py:352: ConvergenceWarning: The max_iter was reached which means the coef_ did not converge\n",
      "  warnings.warn(\n"
     ]
    },
    {
     "name": "stdout",
     "output_type": "stream",
     "text": [
      "[CV 4/5; 1/18] END l1_ratio=0.001, max_iter=100, penalty=elasticnet, solver=saga;, score=0.768 total time= 3.3min\n",
      "[CV 5/5; 1/18] START l1_ratio=0.001, max_iter=100, penalty=elasticnet, solver=saga\n"
     ]
    },
    {
     "name": "stderr",
     "output_type": "stream",
     "text": [
      "d:\\Python\\lib\\site-packages\\sklearn\\linear_model\\_sag.py:352: ConvergenceWarning: The max_iter was reached which means the coef_ did not converge\n",
      "  warnings.warn(\n"
     ]
    },
    {
     "name": "stdout",
     "output_type": "stream",
     "text": [
      "[CV 5/5; 1/18] END l1_ratio=0.001, max_iter=100, penalty=elasticnet, solver=saga;, score=0.775 total time= 3.4min\n",
      "[CV 1/5; 2/18] START l1_ratio=0.001, max_iter=300, penalty=elasticnet, solver=saga\n"
     ]
    },
    {
     "name": "stderr",
     "output_type": "stream",
     "text": [
      "d:\\Python\\lib\\site-packages\\sklearn\\linear_model\\_sag.py:352: ConvergenceWarning: The max_iter was reached which means the coef_ did not converge\n",
      "  warnings.warn(\n"
     ]
    },
    {
     "name": "stdout",
     "output_type": "stream",
     "text": [
      "[CV 1/5; 2/18] END l1_ratio=0.001, max_iter=300, penalty=elasticnet, solver=saga;, score=0.765 total time=10.0min\n",
      "[CV 2/5; 2/18] START l1_ratio=0.001, max_iter=300, penalty=elasticnet, solver=saga\n"
     ]
    },
    {
     "name": "stderr",
     "output_type": "stream",
     "text": [
      "d:\\Python\\lib\\site-packages\\sklearn\\linear_model\\_sag.py:352: ConvergenceWarning: The max_iter was reached which means the coef_ did not converge\n",
      "  warnings.warn(\n"
     ]
    },
    {
     "name": "stdout",
     "output_type": "stream",
     "text": [
      "[CV 2/5; 2/18] END l1_ratio=0.001, max_iter=300, penalty=elasticnet, solver=saga;, score=0.770 total time=10.0min\n",
      "[CV 3/5; 2/18] START l1_ratio=0.001, max_iter=300, penalty=elasticnet, solver=saga\n",
      "[CV 3/5; 2/18] END l1_ratio=0.001, max_iter=300, penalty=elasticnet, solver=saga;, score=0.768 total time= 9.7min\n",
      "[CV 4/5; 2/18] START l1_ratio=0.001, max_iter=300, penalty=elasticnet, solver=saga\n",
      "[CV 4/5; 2/18] END l1_ratio=0.001, max_iter=300, penalty=elasticnet, solver=saga;, score=0.768 total time= 6.4min\n",
      "[CV 5/5; 2/18] START l1_ratio=0.001, max_iter=300, penalty=elasticnet, solver=saga\n"
     ]
    },
    {
     "name": "stderr",
     "output_type": "stream",
     "text": [
      "d:\\Python\\lib\\site-packages\\sklearn\\linear_model\\_sag.py:352: ConvergenceWarning: The max_iter was reached which means the coef_ did not converge\n",
      "  warnings.warn(\n"
     ]
    },
    {
     "name": "stdout",
     "output_type": "stream",
     "text": [
      "[CV 5/5; 2/18] END l1_ratio=0.001, max_iter=300, penalty=elasticnet, solver=saga;, score=0.775 total time=10.4min\n",
      "[CV 1/5; 3/18] START l1_ratio=0.001, max_iter=500, penalty=elasticnet, solver=saga\n",
      "[CV 1/5; 3/18] END l1_ratio=0.001, max_iter=500, penalty=elasticnet, solver=saga;, score=0.765 total time=14.5min\n",
      "[CV 2/5; 3/18] START l1_ratio=0.001, max_iter=500, penalty=elasticnet, solver=saga\n",
      "[CV 2/5; 3/18] END l1_ratio=0.001, max_iter=500, penalty=elasticnet, solver=saga;, score=0.770 total time=11.1min\n",
      "[CV 3/5; 3/18] START l1_ratio=0.001, max_iter=500, penalty=elasticnet, solver=saga\n",
      "[CV 3/5; 3/18] END l1_ratio=0.001, max_iter=500, penalty=elasticnet, solver=saga;, score=0.768 total time= 9.7min\n",
      "[CV 4/5; 3/18] START l1_ratio=0.001, max_iter=500, penalty=elasticnet, solver=saga\n",
      "[CV 4/5; 3/18] END l1_ratio=0.001, max_iter=500, penalty=elasticnet, solver=saga;, score=0.768 total time= 6.3min\n",
      "[CV 5/5; 3/18] START l1_ratio=0.001, max_iter=500, penalty=elasticnet, solver=saga\n",
      "[CV 5/5; 3/18] END l1_ratio=0.001, max_iter=500, penalty=elasticnet, solver=saga;, score=0.775 total time=11.6min\n",
      "[CV 1/5; 4/18] START l1_ratio=0.01, max_iter=100, penalty=elasticnet, solver=saga\n"
     ]
    },
    {
     "name": "stderr",
     "output_type": "stream",
     "text": [
      "d:\\Python\\lib\\site-packages\\sklearn\\linear_model\\_sag.py:352: ConvergenceWarning: The max_iter was reached which means the coef_ did not converge\n",
      "  warnings.warn(\n"
     ]
    },
    {
     "name": "stdout",
     "output_type": "stream",
     "text": [
      "[CV 1/5; 4/18] END l1_ratio=0.01, max_iter=100, penalty=elasticnet, solver=saga;, score=0.765 total time= 3.2min\n",
      "[CV 2/5; 4/18] START l1_ratio=0.01, max_iter=100, penalty=elasticnet, solver=saga\n"
     ]
    },
    {
     "name": "stderr",
     "output_type": "stream",
     "text": [
      "d:\\Python\\lib\\site-packages\\sklearn\\linear_model\\_sag.py:352: ConvergenceWarning: The max_iter was reached which means the coef_ did not converge\n",
      "  warnings.warn(\n"
     ]
    },
    {
     "name": "stdout",
     "output_type": "stream",
     "text": [
      "[CV 2/5; 4/18] END l1_ratio=0.01, max_iter=100, penalty=elasticnet, solver=saga;, score=0.770 total time= 3.3min\n",
      "[CV 3/5; 4/18] START l1_ratio=0.01, max_iter=100, penalty=elasticnet, solver=saga\n"
     ]
    },
    {
     "name": "stderr",
     "output_type": "stream",
     "text": [
      "d:\\Python\\lib\\site-packages\\sklearn\\linear_model\\_sag.py:352: ConvergenceWarning: The max_iter was reached which means the coef_ did not converge\n",
      "  warnings.warn(\n"
     ]
    },
    {
     "name": "stdout",
     "output_type": "stream",
     "text": [
      "[CV 3/5; 4/18] END l1_ratio=0.01, max_iter=100, penalty=elasticnet, solver=saga;, score=0.768 total time= 3.3min\n",
      "[CV 4/5; 4/18] START l1_ratio=0.01, max_iter=100, penalty=elasticnet, solver=saga\n"
     ]
    },
    {
     "name": "stderr",
     "output_type": "stream",
     "text": [
      "d:\\Python\\lib\\site-packages\\sklearn\\linear_model\\_sag.py:352: ConvergenceWarning: The max_iter was reached which means the coef_ did not converge\n",
      "  warnings.warn(\n"
     ]
    },
    {
     "name": "stdout",
     "output_type": "stream",
     "text": [
      "[CV 4/5; 4/18] END l1_ratio=0.01, max_iter=100, penalty=elasticnet, solver=saga;, score=0.768 total time= 3.2min\n",
      "[CV 5/5; 4/18] START l1_ratio=0.01, max_iter=100, penalty=elasticnet, solver=saga\n"
     ]
    },
    {
     "name": "stderr",
     "output_type": "stream",
     "text": [
      "d:\\Python\\lib\\site-packages\\sklearn\\linear_model\\_sag.py:352: ConvergenceWarning: The max_iter was reached which means the coef_ did not converge\n",
      "  warnings.warn(\n"
     ]
    },
    {
     "name": "stdout",
     "output_type": "stream",
     "text": [
      "[CV 5/5; 4/18] END l1_ratio=0.01, max_iter=100, penalty=elasticnet, solver=saga;, score=0.775 total time= 3.2min\n",
      "[CV 1/5; 5/18] START l1_ratio=0.01, max_iter=300, penalty=elasticnet, solver=saga\n"
     ]
    },
    {
     "name": "stderr",
     "output_type": "stream",
     "text": [
      "d:\\Python\\lib\\site-packages\\sklearn\\linear_model\\_sag.py:352: ConvergenceWarning: The max_iter was reached which means the coef_ did not converge\n",
      "  warnings.warn(\n"
     ]
    },
    {
     "name": "stdout",
     "output_type": "stream",
     "text": [
      "[CV 1/5; 5/18] END l1_ratio=0.01, max_iter=300, penalty=elasticnet, solver=saga;, score=0.765 total time= 9.7min\n",
      "[CV 2/5; 5/18] START l1_ratio=0.01, max_iter=300, penalty=elasticnet, solver=saga\n"
     ]
    },
    {
     "name": "stderr",
     "output_type": "stream",
     "text": [
      "d:\\Python\\lib\\site-packages\\sklearn\\linear_model\\_sag.py:352: ConvergenceWarning: The max_iter was reached which means the coef_ did not converge\n",
      "  warnings.warn(\n"
     ]
    },
    {
     "name": "stdout",
     "output_type": "stream",
     "text": [
      "[CV 2/5; 5/18] END l1_ratio=0.01, max_iter=300, penalty=elasticnet, solver=saga;, score=0.770 total time= 9.6min\n",
      "[CV 3/5; 5/18] START l1_ratio=0.01, max_iter=300, penalty=elasticnet, solver=saga\n",
      "[CV 3/5; 5/18] END l1_ratio=0.01, max_iter=300, penalty=elasticnet, solver=saga;, score=0.768 total time= 9.8min\n",
      "[CV 4/5; 5/18] START l1_ratio=0.01, max_iter=300, penalty=elasticnet, solver=saga\n",
      "[CV 4/5; 5/18] END l1_ratio=0.01, max_iter=300, penalty=elasticnet, solver=saga;, score=0.768 total time= 6.3min\n",
      "[CV 5/5; 5/18] START l1_ratio=0.01, max_iter=300, penalty=elasticnet, solver=saga\n"
     ]
    },
    {
     "name": "stderr",
     "output_type": "stream",
     "text": [
      "d:\\Python\\lib\\site-packages\\sklearn\\linear_model\\_sag.py:352: ConvergenceWarning: The max_iter was reached which means the coef_ did not converge\n",
      "  warnings.warn(\n"
     ]
    },
    {
     "name": "stdout",
     "output_type": "stream",
     "text": [
      "[CV 5/5; 5/18] END l1_ratio=0.01, max_iter=300, penalty=elasticnet, solver=saga;, score=0.775 total time= 9.9min\n",
      "[CV 1/5; 6/18] START l1_ratio=0.01, max_iter=500, penalty=elasticnet, solver=saga\n",
      "[CV 1/5; 6/18] END l1_ratio=0.01, max_iter=500, penalty=elasticnet, solver=saga;, score=0.765 total time=14.8min\n",
      "[CV 2/5; 6/18] START l1_ratio=0.01, max_iter=500, penalty=elasticnet, solver=saga\n",
      "[CV 2/5; 6/18] END l1_ratio=0.01, max_iter=500, penalty=elasticnet, solver=saga;, score=0.770 total time=11.3min\n",
      "[CV 3/5; 6/18] START l1_ratio=0.01, max_iter=500, penalty=elasticnet, solver=saga\n",
      "[CV 3/5; 6/18] END l1_ratio=0.01, max_iter=500, penalty=elasticnet, solver=saga;, score=0.768 total time= 9.9min\n",
      "[CV 4/5; 6/18] START l1_ratio=0.01, max_iter=500, penalty=elasticnet, solver=saga\n",
      "[CV 4/5; 6/18] END l1_ratio=0.01, max_iter=500, penalty=elasticnet, solver=saga;, score=0.768 total time= 6.3min\n",
      "[CV 5/5; 6/18] START l1_ratio=0.01, max_iter=500, penalty=elasticnet, solver=saga\n",
      "[CV 5/5; 6/18] END l1_ratio=0.01, max_iter=500, penalty=elasticnet, solver=saga;, score=0.775 total time=12.3min\n",
      "[CV 1/5; 7/18] START l1_ratio=0.05, max_iter=100, penalty=elasticnet, solver=saga\n"
     ]
    },
    {
     "name": "stderr",
     "output_type": "stream",
     "text": [
      "d:\\Python\\lib\\site-packages\\sklearn\\linear_model\\_sag.py:352: ConvergenceWarning: The max_iter was reached which means the coef_ did not converge\n",
      "  warnings.warn(\n"
     ]
    },
    {
     "name": "stdout",
     "output_type": "stream",
     "text": [
      "[CV 1/5; 7/18] END l1_ratio=0.05, max_iter=100, penalty=elasticnet, solver=saga;, score=0.765 total time= 3.1min\n",
      "[CV 2/5; 7/18] START l1_ratio=0.05, max_iter=100, penalty=elasticnet, solver=saga\n"
     ]
    },
    {
     "name": "stderr",
     "output_type": "stream",
     "text": [
      "d:\\Python\\lib\\site-packages\\sklearn\\linear_model\\_sag.py:352: ConvergenceWarning: The max_iter was reached which means the coef_ did not converge\n",
      "  warnings.warn(\n"
     ]
    },
    {
     "name": "stdout",
     "output_type": "stream",
     "text": [
      "[CV 2/5; 7/18] END l1_ratio=0.05, max_iter=100, penalty=elasticnet, solver=saga;, score=0.770 total time= 3.2min\n",
      "[CV 3/5; 7/18] START l1_ratio=0.05, max_iter=100, penalty=elasticnet, solver=saga\n"
     ]
    },
    {
     "name": "stderr",
     "output_type": "stream",
     "text": [
      "d:\\Python\\lib\\site-packages\\sklearn\\linear_model\\_sag.py:352: ConvergenceWarning: The max_iter was reached which means the coef_ did not converge\n",
      "  warnings.warn(\n"
     ]
    },
    {
     "name": "stdout",
     "output_type": "stream",
     "text": [
      "[CV 3/5; 7/18] END l1_ratio=0.05, max_iter=100, penalty=elasticnet, solver=saga;, score=0.768 total time= 3.1min\n",
      "[CV 4/5; 7/18] START l1_ratio=0.05, max_iter=100, penalty=elasticnet, solver=saga\n"
     ]
    },
    {
     "name": "stderr",
     "output_type": "stream",
     "text": [
      "d:\\Python\\lib\\site-packages\\sklearn\\linear_model\\_sag.py:352: ConvergenceWarning: The max_iter was reached which means the coef_ did not converge\n",
      "  warnings.warn(\n"
     ]
    },
    {
     "name": "stdout",
     "output_type": "stream",
     "text": [
      "[CV 4/5; 7/18] END l1_ratio=0.05, max_iter=100, penalty=elasticnet, solver=saga;, score=0.768 total time= 3.1min\n",
      "[CV 5/5; 7/18] START l1_ratio=0.05, max_iter=100, penalty=elasticnet, solver=saga\n"
     ]
    },
    {
     "name": "stderr",
     "output_type": "stream",
     "text": [
      "d:\\Python\\lib\\site-packages\\sklearn\\linear_model\\_sag.py:352: ConvergenceWarning: The max_iter was reached which means the coef_ did not converge\n",
      "  warnings.warn(\n"
     ]
    },
    {
     "name": "stdout",
     "output_type": "stream",
     "text": [
      "[CV 5/5; 7/18] END l1_ratio=0.05, max_iter=100, penalty=elasticnet, solver=saga;, score=0.775 total time= 3.2min\n",
      "[CV 1/5; 8/18] START l1_ratio=0.05, max_iter=300, penalty=elasticnet, solver=saga\n"
     ]
    },
    {
     "name": "stderr",
     "output_type": "stream",
     "text": [
      "d:\\Python\\lib\\site-packages\\sklearn\\linear_model\\_sag.py:352: ConvergenceWarning: The max_iter was reached which means the coef_ did not converge\n",
      "  warnings.warn(\n"
     ]
    },
    {
     "name": "stdout",
     "output_type": "stream",
     "text": [
      "[CV 1/5; 8/18] END l1_ratio=0.05, max_iter=300, penalty=elasticnet, solver=saga;, score=0.765 total time= 9.2min\n",
      "[CV 2/5; 8/18] START l1_ratio=0.05, max_iter=300, penalty=elasticnet, solver=saga\n"
     ]
    },
    {
     "name": "stderr",
     "output_type": "stream",
     "text": [
      "d:\\Python\\lib\\site-packages\\sklearn\\linear_model\\_sag.py:352: ConvergenceWarning: The max_iter was reached which means the coef_ did not converge\n",
      "  warnings.warn(\n"
     ]
    },
    {
     "name": "stdout",
     "output_type": "stream",
     "text": [
      "[CV 2/5; 8/18] END l1_ratio=0.05, max_iter=300, penalty=elasticnet, solver=saga;, score=0.770 total time= 9.5min\n",
      "[CV 3/5; 8/18] START l1_ratio=0.05, max_iter=300, penalty=elasticnet, solver=saga\n"
     ]
    },
    {
     "name": "stderr",
     "output_type": "stream",
     "text": [
      "d:\\Python\\lib\\site-packages\\sklearn\\linear_model\\_sag.py:352: ConvergenceWarning: The max_iter was reached which means the coef_ did not converge\n",
      "  warnings.warn(\n"
     ]
    },
    {
     "name": "stdout",
     "output_type": "stream",
     "text": [
      "[CV 3/5; 8/18] END l1_ratio=0.05, max_iter=300, penalty=elasticnet, solver=saga;, score=0.768 total time= 9.7min\n",
      "[CV 4/5; 8/18] START l1_ratio=0.05, max_iter=300, penalty=elasticnet, solver=saga\n",
      "[CV 4/5; 8/18] END l1_ratio=0.05, max_iter=300, penalty=elasticnet, solver=saga;, score=0.768 total time= 9.0min\n",
      "[CV 5/5; 8/18] START l1_ratio=0.05, max_iter=300, penalty=elasticnet, solver=saga\n"
     ]
    },
    {
     "name": "stderr",
     "output_type": "stream",
     "text": [
      "d:\\Python\\lib\\site-packages\\sklearn\\linear_model\\_sag.py:352: ConvergenceWarning: The max_iter was reached which means the coef_ did not converge\n",
      "  warnings.warn(\n"
     ]
    },
    {
     "name": "stdout",
     "output_type": "stream",
     "text": [
      "[CV 5/5; 8/18] END l1_ratio=0.05, max_iter=300, penalty=elasticnet, solver=saga;, score=0.775 total time= 9.6min\n",
      "[CV 1/5; 9/18] START l1_ratio=0.05, max_iter=500, penalty=elasticnet, solver=saga\n",
      "[CV 1/5; 9/18] END l1_ratio=0.05, max_iter=500, penalty=elasticnet, solver=saga;, score=0.765 total time=15.3min\n",
      "[CV 2/5; 9/18] START l1_ratio=0.05, max_iter=500, penalty=elasticnet, solver=saga\n",
      "[CV 2/5; 9/18] END l1_ratio=0.05, max_iter=500, penalty=elasticnet, solver=saga;, score=0.770 total time=12.9min\n",
      "[CV 3/5; 9/18] START l1_ratio=0.05, max_iter=500, penalty=elasticnet, solver=saga\n",
      "[CV 3/5; 9/18] END l1_ratio=0.05, max_iter=500, penalty=elasticnet, solver=saga;, score=0.768 total time=10.9min\n",
      "[CV 4/5; 9/18] START l1_ratio=0.05, max_iter=500, penalty=elasticnet, solver=saga\n",
      "[CV 4/5; 9/18] END l1_ratio=0.05, max_iter=500, penalty=elasticnet, solver=saga;, score=0.768 total time= 9.2min\n",
      "[CV 5/5; 9/18] START l1_ratio=0.05, max_iter=500, penalty=elasticnet, solver=saga\n",
      "[CV 5/5; 9/18] END l1_ratio=0.05, max_iter=500, penalty=elasticnet, solver=saga;, score=0.775 total time=13.1min\n",
      "[CV 1/5; 10/18] START l1_ratio=0.5, max_iter=100, penalty=elasticnet, solver=saga\n"
     ]
    },
    {
     "name": "stderr",
     "output_type": "stream",
     "text": [
      "d:\\Python\\lib\\site-packages\\sklearn\\linear_model\\_sag.py:352: ConvergenceWarning: The max_iter was reached which means the coef_ did not converge\n",
      "  warnings.warn(\n"
     ]
    },
    {
     "name": "stdout",
     "output_type": "stream",
     "text": [
      "[CV 1/5; 10/18] END l1_ratio=0.5, max_iter=100, penalty=elasticnet, solver=saga;, score=0.765 total time= 2.7min\n",
      "[CV 2/5; 10/18] START l1_ratio=0.5, max_iter=100, penalty=elasticnet, solver=saga\n"
     ]
    },
    {
     "name": "stderr",
     "output_type": "stream",
     "text": [
      "d:\\Python\\lib\\site-packages\\sklearn\\linear_model\\_sag.py:352: ConvergenceWarning: The max_iter was reached which means the coef_ did not converge\n",
      "  warnings.warn(\n"
     ]
    },
    {
     "name": "stdout",
     "output_type": "stream",
     "text": [
      "[CV 2/5; 10/18] END l1_ratio=0.5, max_iter=100, penalty=elasticnet, solver=saga;, score=0.770 total time= 2.8min\n",
      "[CV 3/5; 10/18] START l1_ratio=0.5, max_iter=100, penalty=elasticnet, solver=saga\n"
     ]
    },
    {
     "name": "stderr",
     "output_type": "stream",
     "text": [
      "d:\\Python\\lib\\site-packages\\sklearn\\linear_model\\_sag.py:352: ConvergenceWarning: The max_iter was reached which means the coef_ did not converge\n",
      "  warnings.warn(\n"
     ]
    },
    {
     "name": "stdout",
     "output_type": "stream",
     "text": [
      "[CV 3/5; 10/18] END l1_ratio=0.5, max_iter=100, penalty=elasticnet, solver=saga;, score=0.768 total time= 2.7min\n",
      "[CV 4/5; 10/18] START l1_ratio=0.5, max_iter=100, penalty=elasticnet, solver=saga\n"
     ]
    },
    {
     "name": "stderr",
     "output_type": "stream",
     "text": [
      "d:\\Python\\lib\\site-packages\\sklearn\\linear_model\\_sag.py:352: ConvergenceWarning: The max_iter was reached which means the coef_ did not converge\n",
      "  warnings.warn(\n"
     ]
    },
    {
     "name": "stdout",
     "output_type": "stream",
     "text": [
      "[CV 4/5; 10/18] END l1_ratio=0.5, max_iter=100, penalty=elasticnet, solver=saga;, score=0.768 total time= 2.8min\n",
      "[CV 5/5; 10/18] START l1_ratio=0.5, max_iter=100, penalty=elasticnet, solver=saga\n"
     ]
    },
    {
     "name": "stderr",
     "output_type": "stream",
     "text": [
      "d:\\Python\\lib\\site-packages\\sklearn\\linear_model\\_sag.py:352: ConvergenceWarning: The max_iter was reached which means the coef_ did not converge\n",
      "  warnings.warn(\n"
     ]
    },
    {
     "name": "stdout",
     "output_type": "stream",
     "text": [
      "[CV 5/5; 10/18] END l1_ratio=0.5, max_iter=100, penalty=elasticnet, solver=saga;, score=0.775 total time= 2.8min\n",
      "[CV 1/5; 11/18] START l1_ratio=0.5, max_iter=300, penalty=elasticnet, solver=saga\n"
     ]
    },
    {
     "name": "stderr",
     "output_type": "stream",
     "text": [
      "d:\\Python\\lib\\site-packages\\sklearn\\linear_model\\_sag.py:352: ConvergenceWarning: The max_iter was reached which means the coef_ did not converge\n",
      "  warnings.warn(\n"
     ]
    },
    {
     "name": "stdout",
     "output_type": "stream",
     "text": [
      "[CV 1/5; 11/18] END l1_ratio=0.5, max_iter=300, penalty=elasticnet, solver=saga;, score=0.765 total time= 8.3min\n",
      "[CV 2/5; 11/18] START l1_ratio=0.5, max_iter=300, penalty=elasticnet, solver=saga\n"
     ]
    },
    {
     "name": "stderr",
     "output_type": "stream",
     "text": [
      "d:\\Python\\lib\\site-packages\\sklearn\\linear_model\\_sag.py:352: ConvergenceWarning: The max_iter was reached which means the coef_ did not converge\n",
      "  warnings.warn(\n"
     ]
    },
    {
     "name": "stdout",
     "output_type": "stream",
     "text": [
      "[CV 2/5; 11/18] END l1_ratio=0.5, max_iter=300, penalty=elasticnet, solver=saga;, score=0.770 total time= 8.5min\n",
      "[CV 3/5; 11/18] START l1_ratio=0.5, max_iter=300, penalty=elasticnet, solver=saga\n"
     ]
    },
    {
     "name": "stderr",
     "output_type": "stream",
     "text": [
      "d:\\Python\\lib\\site-packages\\sklearn\\linear_model\\_sag.py:352: ConvergenceWarning: The max_iter was reached which means the coef_ did not converge\n",
      "  warnings.warn(\n"
     ]
    },
    {
     "name": "stdout",
     "output_type": "stream",
     "text": [
      "[CV 3/5; 11/18] END l1_ratio=0.5, max_iter=300, penalty=elasticnet, solver=saga;, score=0.769 total time= 8.4min\n",
      "[CV 4/5; 11/18] START l1_ratio=0.5, max_iter=300, penalty=elasticnet, solver=saga\n",
      "[CV 4/5; 11/18] END l1_ratio=0.5, max_iter=300, penalty=elasticnet, solver=saga;, score=0.768 total time= 7.7min\n",
      "[CV 5/5; 11/18] START l1_ratio=0.5, max_iter=300, penalty=elasticnet, solver=saga\n"
     ]
    },
    {
     "name": "stderr",
     "output_type": "stream",
     "text": [
      "d:\\Python\\lib\\site-packages\\sklearn\\linear_model\\_sag.py:352: ConvergenceWarning: The max_iter was reached which means the coef_ did not converge\n",
      "  warnings.warn(\n"
     ]
    },
    {
     "name": "stdout",
     "output_type": "stream",
     "text": [
      "[CV 5/5; 11/18] END l1_ratio=0.5, max_iter=300, penalty=elasticnet, solver=saga;, score=0.775 total time= 8.6min\n",
      "[CV 1/5; 12/18] START l1_ratio=0.5, max_iter=500, penalty=elasticnet, solver=saga\n",
      "[CV 1/5; 12/18] END l1_ratio=0.5, max_iter=500, penalty=elasticnet, solver=saga;, score=0.765 total time=12.4min\n",
      "[CV 2/5; 12/18] START l1_ratio=0.5, max_iter=500, penalty=elasticnet, solver=saga\n",
      "[CV 2/5; 12/18] END l1_ratio=0.5, max_iter=500, penalty=elasticnet, solver=saga;, score=0.770 total time=11.9min\n",
      "[CV 3/5; 12/18] START l1_ratio=0.5, max_iter=500, penalty=elasticnet, solver=saga\n",
      "[CV 3/5; 12/18] END l1_ratio=0.5, max_iter=500, penalty=elasticnet, solver=saga;, score=0.769 total time=10.4min\n",
      "[CV 4/5; 12/18] START l1_ratio=0.5, max_iter=500, penalty=elasticnet, solver=saga\n",
      "[CV 4/5; 12/18] END l1_ratio=0.5, max_iter=500, penalty=elasticnet, solver=saga;, score=0.768 total time= 7.6min\n",
      "[CV 5/5; 12/18] START l1_ratio=0.5, max_iter=500, penalty=elasticnet, solver=saga\n",
      "[CV 5/5; 12/18] END l1_ratio=0.5, max_iter=500, penalty=elasticnet, solver=saga;, score=0.775 total time=11.2min\n",
      "[CV 1/5; 13/18] START l1_ratio=0.1, max_iter=100, penalty=elasticnet, solver=saga\n"
     ]
    },
    {
     "name": "stderr",
     "output_type": "stream",
     "text": [
      "d:\\Python\\lib\\site-packages\\sklearn\\linear_model\\_sag.py:352: ConvergenceWarning: The max_iter was reached which means the coef_ did not converge\n",
      "  warnings.warn(\n"
     ]
    },
    {
     "name": "stdout",
     "output_type": "stream",
     "text": [
      "[CV 1/5; 13/18] END l1_ratio=0.1, max_iter=100, penalty=elasticnet, solver=saga;, score=0.765 total time= 3.0min\n",
      "[CV 2/5; 13/18] START l1_ratio=0.1, max_iter=100, penalty=elasticnet, solver=saga\n"
     ]
    },
    {
     "name": "stderr",
     "output_type": "stream",
     "text": [
      "d:\\Python\\lib\\site-packages\\sklearn\\linear_model\\_sag.py:352: ConvergenceWarning: The max_iter was reached which means the coef_ did not converge\n",
      "  warnings.warn(\n"
     ]
    },
    {
     "name": "stdout",
     "output_type": "stream",
     "text": [
      "[CV 2/5; 13/18] END l1_ratio=0.1, max_iter=100, penalty=elasticnet, solver=saga;, score=0.770 total time= 3.0min\n",
      "[CV 3/5; 13/18] START l1_ratio=0.1, max_iter=100, penalty=elasticnet, solver=saga\n"
     ]
    },
    {
     "name": "stderr",
     "output_type": "stream",
     "text": [
      "d:\\Python\\lib\\site-packages\\sklearn\\linear_model\\_sag.py:352: ConvergenceWarning: The max_iter was reached which means the coef_ did not converge\n",
      "  warnings.warn(\n"
     ]
    },
    {
     "name": "stdout",
     "output_type": "stream",
     "text": [
      "[CV 3/5; 13/18] END l1_ratio=0.1, max_iter=100, penalty=elasticnet, solver=saga;, score=0.768 total time= 3.2min\n",
      "[CV 4/5; 13/18] START l1_ratio=0.1, max_iter=100, penalty=elasticnet, solver=saga\n"
     ]
    },
    {
     "name": "stderr",
     "output_type": "stream",
     "text": [
      "d:\\Python\\lib\\site-packages\\sklearn\\linear_model\\_sag.py:352: ConvergenceWarning: The max_iter was reached which means the coef_ did not converge\n",
      "  warnings.warn(\n"
     ]
    },
    {
     "name": "stdout",
     "output_type": "stream",
     "text": [
      "[CV 4/5; 13/18] END l1_ratio=0.1, max_iter=100, penalty=elasticnet, solver=saga;, score=0.768 total time= 3.0min\n",
      "[CV 5/5; 13/18] START l1_ratio=0.1, max_iter=100, penalty=elasticnet, solver=saga\n"
     ]
    },
    {
     "name": "stderr",
     "output_type": "stream",
     "text": [
      "d:\\Python\\lib\\site-packages\\sklearn\\linear_model\\_sag.py:352: ConvergenceWarning: The max_iter was reached which means the coef_ did not converge\n",
      "  warnings.warn(\n"
     ]
    },
    {
     "name": "stdout",
     "output_type": "stream",
     "text": [
      "[CV 5/5; 13/18] END l1_ratio=0.1, max_iter=100, penalty=elasticnet, solver=saga;, score=0.775 total time= 3.1min\n",
      "[CV 1/5; 14/18] START l1_ratio=0.1, max_iter=300, penalty=elasticnet, solver=saga\n"
     ]
    },
    {
     "name": "stderr",
     "output_type": "stream",
     "text": [
      "d:\\Python\\lib\\site-packages\\sklearn\\linear_model\\_sag.py:352: ConvergenceWarning: The max_iter was reached which means the coef_ did not converge\n",
      "  warnings.warn(\n"
     ]
    },
    {
     "name": "stdout",
     "output_type": "stream",
     "text": [
      "[CV 1/5; 14/18] END l1_ratio=0.1, max_iter=300, penalty=elasticnet, solver=saga;, score=0.765 total time= 9.1min\n",
      "[CV 2/5; 14/18] START l1_ratio=0.1, max_iter=300, penalty=elasticnet, solver=saga\n"
     ]
    },
    {
     "name": "stderr",
     "output_type": "stream",
     "text": [
      "d:\\Python\\lib\\site-packages\\sklearn\\linear_model\\_sag.py:352: ConvergenceWarning: The max_iter was reached which means the coef_ did not converge\n",
      "  warnings.warn(\n"
     ]
    },
    {
     "name": "stdout",
     "output_type": "stream",
     "text": [
      "[CV 2/5; 14/18] END l1_ratio=0.1, max_iter=300, penalty=elasticnet, solver=saga;, score=0.770 total time= 9.1min\n",
      "[CV 3/5; 14/18] START l1_ratio=0.1, max_iter=300, penalty=elasticnet, solver=saga\n"
     ]
    },
    {
     "name": "stderr",
     "output_type": "stream",
     "text": [
      "d:\\Python\\lib\\site-packages\\sklearn\\linear_model\\_sag.py:352: ConvergenceWarning: The max_iter was reached which means the coef_ did not converge\n",
      "  warnings.warn(\n"
     ]
    },
    {
     "name": "stdout",
     "output_type": "stream",
     "text": [
      "[CV 3/5; 14/18] END l1_ratio=0.1, max_iter=300, penalty=elasticnet, solver=saga;, score=0.768 total time= 9.3min\n",
      "[CV 4/5; 14/18] START l1_ratio=0.1, max_iter=300, penalty=elasticnet, solver=saga\n"
     ]
    },
    {
     "name": "stderr",
     "output_type": "stream",
     "text": [
      "d:\\Python\\lib\\site-packages\\sklearn\\linear_model\\_sag.py:352: ConvergenceWarning: The max_iter was reached which means the coef_ did not converge\n",
      "  warnings.warn(\n"
     ]
    },
    {
     "name": "stdout",
     "output_type": "stream",
     "text": [
      "[CV 4/5; 14/18] END l1_ratio=0.1, max_iter=300, penalty=elasticnet, solver=saga;, score=0.768 total time= 9.9min\n",
      "[CV 5/5; 14/18] START l1_ratio=0.1, max_iter=300, penalty=elasticnet, solver=saga\n"
     ]
    },
    {
     "name": "stderr",
     "output_type": "stream",
     "text": [
      "d:\\Python\\lib\\site-packages\\sklearn\\linear_model\\_sag.py:352: ConvergenceWarning: The max_iter was reached which means the coef_ did not converge\n",
      "  warnings.warn(\n"
     ]
    },
    {
     "name": "stdout",
     "output_type": "stream",
     "text": [
      "[CV 5/5; 14/18] END l1_ratio=0.1, max_iter=300, penalty=elasticnet, solver=saga;, score=0.775 total time=10.6min\n",
      "[CV 1/5; 15/18] START l1_ratio=0.1, max_iter=500, penalty=elasticnet, solver=saga\n"
     ]
    },
    {
     "name": "stderr",
     "output_type": "stream",
     "text": [
      "d:\\Python\\lib\\site-packages\\sklearn\\linear_model\\_sag.py:352: ConvergenceWarning: The max_iter was reached which means the coef_ did not converge\n",
      "  warnings.warn(\n"
     ]
    },
    {
     "name": "stdout",
     "output_type": "stream",
     "text": [
      "[CV 1/5; 15/18] END l1_ratio=0.1, max_iter=500, penalty=elasticnet, solver=saga;, score=0.765 total time=15.6min\n",
      "[CV 2/5; 15/18] START l1_ratio=0.1, max_iter=500, penalty=elasticnet, solver=saga\n",
      "[CV 2/5; 15/18] END l1_ratio=0.1, max_iter=500, penalty=elasticnet, solver=saga;, score=0.770 total time=12.3min\n",
      "[CV 3/5; 15/18] START l1_ratio=0.1, max_iter=500, penalty=elasticnet, solver=saga\n",
      "[CV 3/5; 15/18] END l1_ratio=0.1, max_iter=500, penalty=elasticnet, solver=saga;, score=0.768 total time=12.4min\n",
      "[CV 4/5; 15/18] START l1_ratio=0.1, max_iter=500, penalty=elasticnet, solver=saga\n",
      "[CV 4/5; 15/18] END l1_ratio=0.1, max_iter=500, penalty=elasticnet, solver=saga;, score=0.768 total time=10.7min\n",
      "[CV 5/5; 15/18] START l1_ratio=0.1, max_iter=500, penalty=elasticnet, solver=saga\n",
      "[CV 5/5; 15/18] END l1_ratio=0.1, max_iter=500, penalty=elasticnet, solver=saga;, score=0.775 total time=14.1min\n",
      "[CV 1/5; 16/18] START l1_ratio=0.8, max_iter=100, penalty=elasticnet, solver=saga\n"
     ]
    },
    {
     "name": "stderr",
     "output_type": "stream",
     "text": [
      "d:\\Python\\lib\\site-packages\\sklearn\\linear_model\\_sag.py:352: ConvergenceWarning: The max_iter was reached which means the coef_ did not converge\n",
      "  warnings.warn(\n"
     ]
    },
    {
     "name": "stdout",
     "output_type": "stream",
     "text": [
      "[CV 1/5; 16/18] END l1_ratio=0.8, max_iter=100, penalty=elasticnet, solver=saga;, score=0.765 total time= 2.7min\n",
      "[CV 2/5; 16/18] START l1_ratio=0.8, max_iter=100, penalty=elasticnet, solver=saga\n"
     ]
    },
    {
     "name": "stderr",
     "output_type": "stream",
     "text": [
      "d:\\Python\\lib\\site-packages\\sklearn\\linear_model\\_sag.py:352: ConvergenceWarning: The max_iter was reached which means the coef_ did not converge\n",
      "  warnings.warn(\n"
     ]
    },
    {
     "name": "stdout",
     "output_type": "stream",
     "text": [
      "[CV 2/5; 16/18] END l1_ratio=0.8, max_iter=100, penalty=elasticnet, solver=saga;, score=0.770 total time= 2.7min\n",
      "[CV 3/5; 16/18] START l1_ratio=0.8, max_iter=100, penalty=elasticnet, solver=saga\n"
     ]
    },
    {
     "name": "stderr",
     "output_type": "stream",
     "text": [
      "d:\\Python\\lib\\site-packages\\sklearn\\linear_model\\_sag.py:352: ConvergenceWarning: The max_iter was reached which means the coef_ did not converge\n",
      "  warnings.warn(\n"
     ]
    },
    {
     "name": "stdout",
     "output_type": "stream",
     "text": [
      "[CV 3/5; 16/18] END l1_ratio=0.8, max_iter=100, penalty=elasticnet, solver=saga;, score=0.769 total time= 2.7min\n",
      "[CV 4/5; 16/18] START l1_ratio=0.8, max_iter=100, penalty=elasticnet, solver=saga\n"
     ]
    },
    {
     "name": "stderr",
     "output_type": "stream",
     "text": [
      "d:\\Python\\lib\\site-packages\\sklearn\\linear_model\\_sag.py:352: ConvergenceWarning: The max_iter was reached which means the coef_ did not converge\n",
      "  warnings.warn(\n"
     ]
    },
    {
     "name": "stdout",
     "output_type": "stream",
     "text": [
      "[CV 4/5; 16/18] END l1_ratio=0.8, max_iter=100, penalty=elasticnet, solver=saga;, score=0.768 total time= 2.7min\n",
      "[CV 5/5; 16/18] START l1_ratio=0.8, max_iter=100, penalty=elasticnet, solver=saga\n"
     ]
    },
    {
     "name": "stderr",
     "output_type": "stream",
     "text": [
      "d:\\Python\\lib\\site-packages\\sklearn\\linear_model\\_sag.py:352: ConvergenceWarning: The max_iter was reached which means the coef_ did not converge\n",
      "  warnings.warn(\n"
     ]
    },
    {
     "name": "stdout",
     "output_type": "stream",
     "text": [
      "[CV 5/5; 16/18] END l1_ratio=0.8, max_iter=100, penalty=elasticnet, solver=saga;, score=0.775 total time= 2.7min\n",
      "[CV 1/5; 17/18] START l1_ratio=0.8, max_iter=300, penalty=elasticnet, solver=saga\n"
     ]
    },
    {
     "name": "stderr",
     "output_type": "stream",
     "text": [
      "d:\\Python\\lib\\site-packages\\sklearn\\linear_model\\_sag.py:352: ConvergenceWarning: The max_iter was reached which means the coef_ did not converge\n",
      "  warnings.warn(\n"
     ]
    },
    {
     "name": "stdout",
     "output_type": "stream",
     "text": [
      "[CV 1/5; 17/18] END l1_ratio=0.8, max_iter=300, penalty=elasticnet, solver=saga;, score=0.765 total time= 8.2min\n",
      "[CV 2/5; 17/18] START l1_ratio=0.8, max_iter=300, penalty=elasticnet, solver=saga\n"
     ]
    },
    {
     "name": "stderr",
     "output_type": "stream",
     "text": [
      "d:\\Python\\lib\\site-packages\\sklearn\\linear_model\\_sag.py:352: ConvergenceWarning: The max_iter was reached which means the coef_ did not converge\n",
      "  warnings.warn(\n"
     ]
    },
    {
     "name": "stdout",
     "output_type": "stream",
     "text": [
      "[CV 2/5; 17/18] END l1_ratio=0.8, max_iter=300, penalty=elasticnet, solver=saga;, score=0.771 total time= 8.0min\n",
      "[CV 3/5; 17/18] START l1_ratio=0.8, max_iter=300, penalty=elasticnet, solver=saga\n"
     ]
    },
    {
     "name": "stderr",
     "output_type": "stream",
     "text": [
      "d:\\Python\\lib\\site-packages\\sklearn\\linear_model\\_sag.py:352: ConvergenceWarning: The max_iter was reached which means the coef_ did not converge\n",
      "  warnings.warn(\n"
     ]
    },
    {
     "name": "stdout",
     "output_type": "stream",
     "text": [
      "[CV 3/5; 17/18] END l1_ratio=0.8, max_iter=300, penalty=elasticnet, solver=saga;, score=0.769 total time= 8.2min\n",
      "[CV 4/5; 17/18] START l1_ratio=0.8, max_iter=300, penalty=elasticnet, solver=saga\n"
     ]
    },
    {
     "name": "stderr",
     "output_type": "stream",
     "text": [
      "d:\\Python\\lib\\site-packages\\sklearn\\linear_model\\_sag.py:352: ConvergenceWarning: The max_iter was reached which means the coef_ did not converge\n",
      "  warnings.warn(\n"
     ]
    },
    {
     "name": "stdout",
     "output_type": "stream",
     "text": [
      "[CV 4/5; 17/18] END l1_ratio=0.8, max_iter=300, penalty=elasticnet, solver=saga;, score=0.768 total time= 8.1min\n",
      "[CV 5/5; 17/18] START l1_ratio=0.8, max_iter=300, penalty=elasticnet, solver=saga\n"
     ]
    },
    {
     "name": "stderr",
     "output_type": "stream",
     "text": [
      "d:\\Python\\lib\\site-packages\\sklearn\\linear_model\\_sag.py:352: ConvergenceWarning: The max_iter was reached which means the coef_ did not converge\n",
      "  warnings.warn(\n"
     ]
    },
    {
     "name": "stdout",
     "output_type": "stream",
     "text": [
      "[CV 5/5; 17/18] END l1_ratio=0.8, max_iter=300, penalty=elasticnet, solver=saga;, score=0.775 total time= 8.2min\n",
      "[CV 1/5; 18/18] START l1_ratio=0.8, max_iter=500, penalty=elasticnet, solver=saga\n",
      "[CV 1/5; 18/18] END l1_ratio=0.8, max_iter=500, penalty=elasticnet, solver=saga;, score=0.765 total time=11.5min\n",
      "[CV 2/5; 18/18] START l1_ratio=0.8, max_iter=500, penalty=elasticnet, solver=saga\n"
     ]
    },
    {
     "name": "stderr",
     "output_type": "stream",
     "text": [
      "d:\\Python\\lib\\site-packages\\sklearn\\linear_model\\_sag.py:352: ConvergenceWarning: The max_iter was reached which means the coef_ did not converge\n",
      "  warnings.warn(\n"
     ]
    },
    {
     "name": "stdout",
     "output_type": "stream",
     "text": [
      "[CV 2/5; 18/18] END l1_ratio=0.8, max_iter=500, penalty=elasticnet, solver=saga;, score=0.771 total time=13.5min\n",
      "[CV 3/5; 18/18] START l1_ratio=0.8, max_iter=500, penalty=elasticnet, solver=saga\n",
      "[CV 3/5; 18/18] END l1_ratio=0.8, max_iter=500, penalty=elasticnet, solver=saga;, score=0.769 total time=11.7min\n",
      "[CV 4/5; 18/18] START l1_ratio=0.8, max_iter=500, penalty=elasticnet, solver=saga\n",
      "[CV 4/5; 18/18] END l1_ratio=0.8, max_iter=500, penalty=elasticnet, solver=saga;, score=0.768 total time=12.2min\n",
      "[CV 5/5; 18/18] START l1_ratio=0.8, max_iter=500, penalty=elasticnet, solver=saga\n",
      "[CV 5/5; 18/18] END l1_ratio=0.8, max_iter=500, penalty=elasticnet, solver=saga;, score=0.775 total time=12.0min\n",
      "Best Parameters: {'l1_ratio': 0.8, 'max_iter': 500, 'penalty': 'elasticnet', 'solver': 'saga'}\n"
     ]
    }
   ],
   "source": [
    "\n",
    "# Define the logistic regression model\n",
    "logreg = LogisticRegression()\n",
    "\n",
    "# Define the parameter grid for hyperparameter tuning\n",
    "param_grid = {\n",
    "    'l1_ratio': [0.001, 0.01, 0.05, 0.5, 0.1, 0.8],\n",
    "    'penalty': ['elasticnet'],  \n",
    "    'solver': ['saga'],\n",
    "    'max_iter': [100,300,500]\n",
    "}\n",
    "\n",
    "# Use GridSearchCV to find the best parameters\n",
    "grid_search = GridSearchCV(logreg, param_grid, cv=strkfold, scoring='roc_auc', verbose= 10)\n",
    "grid_search.fit(x_train, y_train)\n",
    "\n",
    "# Print the best parameters found by GridSearchCV\n",
    "print(\"Best Parameters:\", grid_search.best_params_)"
   ]
  },
  {
   "cell_type": "code",
   "execution_count": 8,
   "metadata": {},
   "outputs": [],
   "source": [
    "# Make predictions on the test set using the best model\n",
    "best_model = grid_search.best_estimator_\n",
    "y_pred = best_model.predict_proba(x_test)[:, 1]"
   ]
  },
  {
   "cell_type": "code",
   "execution_count": 9,
   "metadata": {},
   "outputs": [
    {
     "data": {
      "text/plain": [
       "Int64Index([ 83659, 174814, 179486,  57038,  25672, 302672,  90463, 178370,\n",
       "              7865, 185100,\n",
       "            ...\n",
       "             36512,  17179,  34093,  57005,  68015, 150442,   5217, 260741,\n",
       "            284794, 258643],\n",
       "           dtype='int64', name='SK_ID_CURR', length=61502)"
      ]
     },
     "execution_count": 9,
     "metadata": {},
     "output_type": "execute_result"
    }
   ],
   "source": [
    "x_test.index"
   ]
  },
  {
   "cell_type": "code",
   "execution_count": 34,
   "metadata": {},
   "outputs": [],
   "source": [
    "submit['TARGET'] = y_pred\n",
    "submit = submit.set_index('SK_ID_CURR').sort_index(ascending=True)\n",
    "submit.to_csv('../Submission.csv')\n"
   ]
  },
  {
   "cell_type": "code",
   "execution_count": 35,
   "metadata": {},
   "outputs": [
    {
     "data": {
      "text/html": [
       "<div>\n",
       "<style scoped>\n",
       "    .dataframe tbody tr th:only-of-type {\n",
       "        vertical-align: middle;\n",
       "    }\n",
       "\n",
       "    .dataframe tbody tr th {\n",
       "        vertical-align: top;\n",
       "    }\n",
       "\n",
       "    .dataframe thead th {\n",
       "        text-align: right;\n",
       "    }\n",
       "</style>\n",
       "<table border=\"1\" class=\"dataframe\">\n",
       "  <thead>\n",
       "    <tr style=\"text-align: right;\">\n",
       "      <th></th>\n",
       "      <th>TARGET</th>\n",
       "    </tr>\n",
       "    <tr>\n",
       "      <th>SK_ID_CURR</th>\n",
       "      <th></th>\n",
       "    </tr>\n",
       "  </thead>\n",
       "  <tbody>\n",
       "    <tr>\n",
       "      <th>5</th>\n",
       "      <td>0.024098</td>\n",
       "    </tr>\n",
       "    <tr>\n",
       "      <th>13</th>\n",
       "      <td>0.118656</td>\n",
       "    </tr>\n",
       "    <tr>\n",
       "      <th>16</th>\n",
       "      <td>0.062767</td>\n",
       "    </tr>\n",
       "    <tr>\n",
       "      <th>19</th>\n",
       "      <td>0.170626</td>\n",
       "    </tr>\n",
       "    <tr>\n",
       "      <th>25</th>\n",
       "      <td>0.100986</td>\n",
       "    </tr>\n",
       "    <tr>\n",
       "      <th>...</th>\n",
       "      <td>...</td>\n",
       "    </tr>\n",
       "    <tr>\n",
       "      <th>307487</th>\n",
       "      <td>0.023692</td>\n",
       "    </tr>\n",
       "    <tr>\n",
       "      <th>307490</th>\n",
       "      <td>0.018978</td>\n",
       "    </tr>\n",
       "    <tr>\n",
       "      <th>307497</th>\n",
       "      <td>0.030312</td>\n",
       "    </tr>\n",
       "    <tr>\n",
       "      <th>307499</th>\n",
       "      <td>0.125443</td>\n",
       "    </tr>\n",
       "    <tr>\n",
       "      <th>307508</th>\n",
       "      <td>0.024961</td>\n",
       "    </tr>\n",
       "  </tbody>\n",
       "</table>\n",
       "<p>61502 rows × 1 columns</p>\n",
       "</div>"
      ],
      "text/plain": [
       "              TARGET\n",
       "SK_ID_CURR          \n",
       "5           0.024098\n",
       "13          0.118656\n",
       "16          0.062767\n",
       "19          0.170626\n",
       "25          0.100986\n",
       "...              ...\n",
       "307487      0.023692\n",
       "307490      0.018978\n",
       "307497      0.030312\n",
       "307499      0.125443\n",
       "307508      0.024961\n",
       "\n",
       "[61502 rows x 1 columns]"
      ]
     },
     "execution_count": 35,
     "metadata": {},
     "output_type": "execute_result"
    }
   ],
   "source": [
    "submit"
   ]
  },
  {
   "cell_type": "code",
   "execution_count": null,
   "metadata": {},
   "outputs": [],
   "source": []
  }
 ],
 "metadata": {
  "kernelspec": {
   "display_name": "base",
   "language": "python",
   "name": "python3"
  },
  "language_info": {
   "codemirror_mode": {
    "name": "ipython",
    "version": 3
   },
   "file_extension": ".py",
   "mimetype": "text/x-python",
   "name": "python",
   "nbconvert_exporter": "python",
   "pygments_lexer": "ipython3",
   "version": "3.9.12"
  }
 },
 "nbformat": 4,
 "nbformat_minor": 2
}
